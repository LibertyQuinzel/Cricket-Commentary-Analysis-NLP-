{
 "cells": [
  {
   "cell_type": "markdown",
   "metadata": {},
   "source": [
    "CRICKET COMMENTARY ANALYSIS"
   ]
  },
  {
   "cell_type": "markdown",
   "metadata": {},
   "source": [
    "PHASE 1:\n",
    "COLLECTION OF DATA BY WEBSCRAPING"
   ]
  },
  {
   "cell_type": "markdown",
   "metadata": {},
   "source": [
    "The aim of this phase was to scrape cricket commentary from websites like [cricbuzz](https://m.cricbuzz.com/cricket-match-highlights/78628/ind-vs-eng-1st-test-england-tour-of-india-2024) and [ESPN cricinfo](https://www.espncricinfo.com/series/rachael-heyhoe-flint-trophy-2024-1427805/northern-diamonds-vs-western-storm-6th-match-1427811/ball-by-ball-commentary).  \n",
    "\n",
    "The python library \"beautiful soup\" was used to do the same."
   ]
  },
  {
   "cell_type": "code",
   "execution_count": 2,
   "metadata": {},
   "outputs": [
    {
     "name": "stdout",
     "output_type": "stream",
     "text": [
      "[<div><a class=\"block mb-3\" href=\"/live-cricket-scores/91087/zim-vs-ban-1st-t20i-bangladesh-v-zimbabwe-2024\" title=\"Zimbabwe vs Bangladesh, 1st T20I - BAN Won \"><div class=\"flex gap-1\"><div class=\"text-white\">Zimbabwe vs Bangladesh<!-- --> </div></div><div class=\"text-xs text-[#d1d1d1]\">1st T20I</div></a><a class=\"block mb-3\" href=\"/live-cricket-scores/91090/ban-vs-zim-2nd-t20i-bangladesh-v-zimbabwe-2024\" title=\"Bangladesh vs Zimbabwe, 2nd T20I - Upcoming Match \"><div class=\"flex gap-1\"><div class=\"text-white\">Bangladesh vs Zimbabwe<!-- --> </div></div><div class=\"text-xs text-[#d1d1d1]\">2nd T20I</div></a></div>, <div><a class=\"block mb-3\" href=\"/live-cricket-scores/94253/thai-vs-idn-2nd-t20i-indonesia-v-thailand-2024\" title=\"Thailand vs Indonesia, 2nd T20I - IDN Won \"><div class=\"flex gap-1\"><div class=\"text-white\">Thailand vs Indonesia<!-- --> </div></div><div class=\"text-xs text-[#d1d1d1]\">2nd T20I</div></a><a class=\"block mb-3\" href=\"/live-cricket-scores/94262/idn-vs-thai-3rd-t20i-indonesia-v-thailand-2024\" title=\"Indonesia vs Thailand, 3rd T20I - Live \"><div class=\"flex gap-1\"><div class=\"text-white\">Indonesia vs Thailand<!-- --> </div><span class=\"scale-60\"><span class=\"scale-60 cbPlusLiveTag\">LIVE</span></span></div><div class=\"text-xs text-[#d1d1d1]\">3rd T20I</div></a><a class=\"block mb-3\" href=\"/live-cricket-scores/94264/idn-vs-thai-4th-t20i-indonesia-v-thailand-2024\" title=\"Indonesia vs Thailand, 4th T20I - Upcoming Match \"><div class=\"flex gap-1\"><div class=\"text-white\">Indonesia vs Thailand<!-- --> </div></div><div class=\"text-xs text-[#d1d1d1]\">4th T20I</div></a><a class=\"block mb-3\" href=\"/live-cricket-scores/94273/idn-vs-thai-5th-t20i-indonesia-v-thailand-2024\" title=\"Indonesia vs Thailand, 5th T20I - Upcoming Match \"><div class=\"flex gap-1\"><div class=\"text-white\">Indonesia vs Thailand<!-- --> </div></div><div class=\"text-xs text-[#d1d1d1]\">5th T20I</div></a></div>, <div><a class=\"block mb-3\" href=\"/live-cricket-scores/91587/srh-vs-rr-50th-match-ipl-2024\" title=\"Sunrisers Hyderabad vs Rajasthan Royals, 50th Match - SRH Won \"><div class=\"flex gap-1\"><div class=\"text-white\">Sunrisers Hyderabad vs Rajasthan Royals<!-- --> </div></div><div class=\"text-xs text-[#d1d1d1]\">50th Match</div></a><a class=\"block mb-3\" href=\"/live-cricket-scores/91596/kkr-vs-mi-51st-match-ipl-2024\" title=\"Kolkata Knight Riders vs Mumbai Indians, 51st Match - KKR Won \"><div class=\"flex gap-1\"><div class=\"text-white\">Kolkata Knight Riders vs Mumbai Indians<!-- --> </div></div><div class=\"text-xs text-[#d1d1d1]\">51st Match</div></a><a class=\"block mb-3\" href=\"/live-cricket-scores/91600/rcb-vs-gt-52nd-match-ipl-2024\" title=\"Royal Challengers Bengaluru vs Gujarat Titans, 52nd Match - Preview \"><div class=\"flex gap-1\"><div class=\"text-white\">Royal Challengers Bengaluru vs Gujarat Titans<!-- --> </div></div><div class=\"text-xs text-[#d1d1d1]\">52nd Match</div></a><a class=\"block mb-3\" href=\"/live-cricket-scores/91609/pbks-vs-csk-53rd-match-ipl-2024\" title=\"Punjab Kings vs Chennai Super Kings, 53rd Match - Upcoming Match \"><div class=\"flex gap-1\"><div class=\"text-white\">Punjab Kings vs Chennai Super Kings<!-- --> </div></div><div class=\"text-xs text-[#d1d1d1]\">53rd Match</div></a><a class=\"block mb-3\" href=\"/live-cricket-scores/91618/lsg-vs-kkr-54th-match-ipl-2024\" title=\"Lucknow Super Giants vs Kolkata Knight Riders, 54th Match - Upcoming Match \"><div class=\"flex gap-1\"><div class=\"text-white\">Lucknow Super Giants vs Kolkata Knight Riders<!-- --> </div></div><div class=\"text-xs text-[#d1d1d1]\">54th Match</div></a></div>, <div><a class=\"block mb-3\" href=\"/live-cricket-scores/84233/ess-vs-som-21st-match-county-division-1\" title=\"Essex vs Somerset, 21st Match - Stumps \"><div class=\"flex gap-1\"><div class=\"text-white\">Essex vs Somerset<!-- --> </div></div><div class=\"text-xs text-[#d1d1d1]\">21st Match</div></a><a class=\"block mb-3\" href=\"/live-cricket-scores/84226/kent-vs-lancs-20th-match-county-division-1\" title=\"Kent vs Lancashire, 20th Match - Stumps \"><div class=\"flex gap-1\"><div class=\"text-white\">Kent vs Lancashire<!-- --> </div></div><div class=\"text-xs text-[#d1d1d1]\">20th Match</div></a></div>, <div><a class=\"block mb-3\" href=\"/live-cricket-scores/85360/mdx-vs-leic-17th-match-county-division-2\" title=\"Middlesex vs Leicestershire, 17th Match - Stumps \"><div class=\"flex gap-1\"><div class=\"text-white\">Middlesex vs Leicestershire<!-- --> </div></div><div class=\"text-xs text-[#d1d1d1]\">17th Match</div></a><a class=\"block mb-3\" href=\"/live-cricket-scores/85353/derby-vs-sus-16th-match-county-division-2\" title=\"Derbyshire vs Sussex, 16th Match - Stumps \"><div class=\"flex gap-1\"><div class=\"text-white\">Derbyshire vs Sussex<!-- --> </div></div><div class=\"text-xs text-[#d1d1d1]\">16th Match</div></a><a class=\"block mb-3\" href=\"/live-cricket-scores/85367/glam-vs-yorks-18th-match-county-division-2\" title=\"Glamorgan vs Yorkshire, 18th Match - Stumps \"><div class=\"flex gap-1\"><div class=\"text-white\">Glamorgan vs Yorkshire<!-- --> </div></div><div class=\"text-xs text-[#d1d1d1]\">18th Match</div></a></div>, <div><a class=\"block mb-3\" href=\"/live-cricket-scores/92309/banw-vs-indw-3rd-t20i-bangladesh-women-v-india-women\" title=\"Bangladesh Women vs India Women, 3rd T20I - INDW Won \"><div class=\"flex gap-1\"><div class=\"text-white\">Bangladesh Women vs India Women<!-- --> </div></div><div class=\"text-xs text-[#d1d1d1]\">3rd T20I</div></a></div>, <div><a class=\"block mb-3\" href=\"/live-cricket-scores/91272/uaew-vs-vanw-18th-match-group-b-icc-womens-t20wcq-2024\" title=\"United Arab Emirates Women vs Vanuatu Women, 18th Match, Group B - UAEW Won \"><div class=\"flex gap-1\"><div class=\"text-white\">United Arab Emirates Women vs Vanuatu Women<!-- --> </div></div><div class=\"text-xs text-[#d1d1d1]\">18th Match, Group B</div></a><a class=\"block mb-3\" href=\"/live-cricket-scores/91267/thaiw-vs-scow-17th-match-group-a-icc-womens-t20wcq-2024\" title=\"Thailand Women vs Scotland Women, 17th Match, Group A - SCOW Won \"><div class=\"flex gap-1\"><div class=\"text-white\">Thailand Women vs Scotland Women<!-- --> </div></div><div class=\"text-xs text-[#d1d1d1]\">17th Match, Group A</div></a><a class=\"block mb-3\" href=\"/live-cricket-scores/91281/irew-vs-nedw-20th-match-group-b-icc-womens-t20wcq-2024\" title=\"Ireland Women vs Netherlands Women, 20th Match, Group B - IREW Won \"><div class=\"flex gap-1\"><div class=\"text-white\">Ireland Women vs Netherlands Women<!-- --> </div></div><div class=\"text-xs text-[#d1d1d1]\">20th Match, Group B</div></a><a class=\"block mb-3\" href=\"/live-cricket-scores/91276/slw-vs-usaw-19th-match-group-a-icc-womens-t20wcq-2024\" title=\"Sri Lanka Women vs United States Women, 19th Match, Group A - SLW Won \"><div class=\"flex gap-1\"><div class=\"text-white\">Sri Lanka Women vs United States Women<!-- --> </div></div><div class=\"text-xs text-[#d1d1d1]\">19th Match, Group A</div></a><a class=\"block mb-3\" href=\"/live-cricket-scores/91285/tbc-vs-tbc-1st-semi-final-icc-womens-t20wcq-2024\" title=\"TBC vs TBC, 1st Semi-Final - Upcoming Match \"><div class=\"flex gap-1\"><div class=\"text-white\">TBC vs TBC<!-- --> </div></div><div class=\"text-xs text-[#d1d1d1]\">1st Semi-Final</div></a><a class=\"block mb-3\" href=\"/live-cricket-scores/91294/tbc-vs-tbc-2nd-semi-final-icc-womens-t20wcq-2024\" title=\"TBC vs TBC, 2nd Semi-Final - Upcoming Match \"><div class=\"flex gap-1\"><div class=\"text-white\">TBC vs TBC<!-- --> </div></div><div class=\"text-xs text-[#d1d1d1]\">2nd Semi-Final</div></a></div>, <div><a class=\"block mb-3\" href=\"/live-cricket-scores/91146/wiw-vs-pakw-4th-t20i-west-indies-women-tour-of-pakistan\" title=\"West Indies Women vs Pakistan Women, 4th T20I - PAKW Won \"><div class=\"flex gap-1\"><div class=\"text-white\">West Indies Women vs Pakistan Women<!-- --> </div></div><div class=\"text-xs text-[#d1d1d1]\">4th T20I</div></a><a class=\"block mb-3\" href=\"/live-cricket-scores/91150/pakw-vs-wiw-5th-t20i-west-indies-women-tour-of-pakistan\" title=\"Pakistan Women vs West Indies Women, 5th T20I - WIW Won \"><div class=\"flex gap-1\"><div class=\"text-white\">Pakistan Women vs West Indies Women<!-- --> </div></div><div class=\"text-xs text-[#d1d1d1]\">5th T20I</div></a></div>, <div><span class=\"font-bold\">Series: </span><a class=\"hover:underline\" href=\"/cricket-series/6927/england-tour-of-india-2024/matches\">England tour of India, 2024</a></div>]\n"
     ]
    }
   ],
   "source": [
    "import requests\n",
    "from bs4 import BeautifulSoup \n",
    "url = \"https://m.cricbuzz.com/cricket-match-highlights/78628/ind-vs-eng-1st-test-england-tour-of-india-2024\"\n",
    "response = requests.get(url)\n",
    "soup = BeautifulSoup(response.text, 'html.parser')\n",
    "divs= soup.find_all('div', attrs={'class': None})\n",
    "print(divs[1:10])"
   ]
  },
  {
   "cell_type": "markdown",
   "metadata": {},
   "source": [
    "Unfortunately, the website consisted of a high number of nested \\<div> tags, and the text was directly placed in between \\<div> tags, and not between \\<p> tags which would have been feasible to extract with beautiful soup. \n",
    "So, we decided to go with the [Kaggle commentary dataset](https://www.kaggle.com/datasets/raghuvansht/cricket-scorecard-and-commentary-dataset) instead, which was preprocessed. "
   ]
  },
  {
   "cell_type": "markdown",
   "metadata": {},
   "source": [
    "PHASE 2: DEFINING THE INTERESTING SCORE"
   ]
  },
  {
   "cell_type": "markdown",
   "metadata": {},
   "source": [
    "We are currently in the process of defining and refining the \"interesting score\". Initially, we approximated the interesting score to contain the following elements extracted from the commentary: \n",
    "\n",
    "\n",
    "1. Cricket vocabulary like \"six\", \"four\", \"boundary\", \"wicket\", \"catch\", \"miss\" etc. and using Word2Vec to extract the important parts of the match \n",
    "\n 2.Sentiment Intensity Analysis \n",
    "3. TextRank to get the highlights and extract import information"
   ]
  },
  {
   "cell_type": "markdown",
   "metadata": {},
   "source": [
    "Each over will have its intersting score evaluated, and then we decide which over is the most interesting. \n",
    "Currently, we have split the dataset among the team, and are processing it to find elements listed above, and once that is done, we will consolidate to get a final interesting score. We chose to choose our own way of processing the data, to account for diversity in the perception of interesting, and hope to aggregate it."
   ]
  },
  {
   "cell_type": "markdown",
   "metadata": {},
   "source": []
  }
 ],
 "metadata": {
  "kernelspec": {
   "display_name": "Python 3",
   "language": "python",
   "name": "python3"
  },
  "language_info": {
   "codemirror_mode": {
    "name": "ipython",
    "version": 3
   },
   "file_extension": ".py",
   "mimetype": "text/x-python",
   "name": "python",
   "nbconvert_exporter": "python",
   "pygments_lexer": "ipython3",
   "version": "3.12.1"
  }
 },
 "nbformat": 4,
 "nbformat_minor": 2
}
